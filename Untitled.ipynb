{
 "cells": [
  {
   "cell_type": "code",
   "execution_count": 1,
   "id": "539162d1-1d7e-4542-8ad9-7f9b0d3ff426",
   "metadata": {},
   "outputs": [],
   "source": [
    "import pandas as pd"
   ]
  },
  {
   "cell_type": "code",
   "execution_count": 90,
   "id": "e0ada383-98d7-439a-a31b-75ca83a05c45",
   "metadata": {},
   "outputs": [],
   "source": [
    "df = pd.read_csv(r\"C:\\Users\\rajaa\\PycharmProjects\\OOP\\hotels.csv\")"
   ]
  },
  {
   "cell_type": "code",
   "execution_count": 4,
   "id": "3c9b4c21-e383-403b-bae4-b12675331288",
   "metadata": {},
   "outputs": [
    {
     "data": {
      "text/html": [
       "<div>\n",
       "<style scoped>\n",
       "    .dataframe tbody tr th:only-of-type {\n",
       "        vertical-align: middle;\n",
       "    }\n",
       "\n",
       "    .dataframe tbody tr th {\n",
       "        vertical-align: top;\n",
       "    }\n",
       "\n",
       "    .dataframe thead th {\n",
       "        text-align: right;\n",
       "    }\n",
       "</style>\n",
       "<table border=\"1\" class=\"dataframe\">\n",
       "  <thead>\n",
       "    <tr style=\"text-align: right;\">\n",
       "      <th></th>\n",
       "      <th>id</th>\n",
       "      <th>name</th>\n",
       "      <th>city</th>\n",
       "      <th>capacity</th>\n",
       "      <th>available</th>\n",
       "    </tr>\n",
       "  </thead>\n",
       "  <tbody>\n",
       "    <tr>\n",
       "      <th>0</th>\n",
       "      <td>134</td>\n",
       "      <td>Tourist Sunny Apartment</td>\n",
       "      <td>Anchorage</td>\n",
       "      <td>4</td>\n",
       "      <td>yes</td>\n",
       "    </tr>\n",
       "    <tr>\n",
       "      <th>1</th>\n",
       "      <td>188</td>\n",
       "      <td>Snow Palace</td>\n",
       "      <td>New Delhi</td>\n",
       "      <td>5</td>\n",
       "      <td>no</td>\n",
       "    </tr>\n",
       "    <tr>\n",
       "      <th>2</th>\n",
       "      <td>655</td>\n",
       "      <td>City Break Inn</td>\n",
       "      <td>Porto-Novo</td>\n",
       "      <td>3</td>\n",
       "      <td>no</td>\n",
       "    </tr>\n",
       "  </tbody>\n",
       "</table>\n",
       "</div>"
      ],
      "text/plain": [
       "    id                     name        city  capacity available\n",
       "0  134  Tourist Sunny Apartment   Anchorage         4       yes\n",
       "1  188              Snow Palace   New Delhi         5        no\n",
       "2  655           City Break Inn  Porto-Novo         3        no"
      ]
     },
     "execution_count": 4,
     "metadata": {},
     "output_type": "execute_result"
    }
   ],
   "source": [
    "df"
   ]
  },
  {
   "cell_type": "code",
   "execution_count": 6,
   "id": "20495e6f-fb38-43c2-aeeb-fc83114ecd2b",
   "metadata": {},
   "outputs": [
    {
     "data": {
      "text/html": [
       "<div>\n",
       "<style scoped>\n",
       "    .dataframe tbody tr th:only-of-type {\n",
       "        vertical-align: middle;\n",
       "    }\n",
       "\n",
       "    .dataframe tbody tr th {\n",
       "        vertical-align: top;\n",
       "    }\n",
       "\n",
       "    .dataframe thead th {\n",
       "        text-align: right;\n",
       "    }\n",
       "</style>\n",
       "<table border=\"1\" class=\"dataframe\">\n",
       "  <thead>\n",
       "    <tr style=\"text-align: right;\">\n",
       "      <th></th>\n",
       "      <th>id</th>\n",
       "      <th>name</th>\n",
       "      <th>city</th>\n",
       "      <th>capacity</th>\n",
       "      <th>available</th>\n",
       "    </tr>\n",
       "  </thead>\n",
       "  <tbody>\n",
       "    <tr>\n",
       "      <th>0</th>\n",
       "      <td>134</td>\n",
       "      <td>Tourist Sunny Apartment</td>\n",
       "      <td>Anchorage</td>\n",
       "      <td>4</td>\n",
       "      <td>yes</td>\n",
       "    </tr>\n",
       "  </tbody>\n",
       "</table>\n",
       "</div>"
      ],
      "text/plain": [
       "    id                     name       city  capacity available\n",
       "0  134  Tourist Sunny Apartment  Anchorage         4       yes"
      ]
     },
     "execution_count": 6,
     "metadata": {},
     "output_type": "execute_result"
    }
   ],
   "source": [
    "df.loc[df['id']==134]"
   ]
  },
  {
   "cell_type": "code",
   "execution_count": 8,
   "id": "bc93eed6-b17a-45d8-a437-72c5d655c29a",
   "metadata": {},
   "outputs": [
    {
     "data": {
      "text/plain": [
       "'yes'"
      ]
     },
     "execution_count": 8,
     "metadata": {},
     "output_type": "execute_result"
    }
   ],
   "source": [
    "df.loc[df['id']==134, 'available'].squeeze()"
   ]
  },
  {
   "cell_type": "code",
   "execution_count": 20,
   "id": "51316f29-bc5e-4de6-bf68-94300bd49152",
   "metadata": {},
   "outputs": [
    {
     "data": {
      "text/html": [
       "<div>\n",
       "<style scoped>\n",
       "    .dataframe tbody tr th:only-of-type {\n",
       "        vertical-align: middle;\n",
       "    }\n",
       "\n",
       "    .dataframe tbody tr th {\n",
       "        vertical-align: top;\n",
       "    }\n",
       "\n",
       "    .dataframe thead th {\n",
       "        text-align: right;\n",
       "    }\n",
       "</style>\n",
       "<table border=\"1\" class=\"dataframe\">\n",
       "  <thead>\n",
       "    <tr style=\"text-align: right;\">\n",
       "      <th></th>\n",
       "      <th>id</th>\n",
       "      <th>name</th>\n",
       "      <th>city</th>\n",
       "      <th>capacity</th>\n",
       "      <th>available</th>\n",
       "    </tr>\n",
       "  </thead>\n",
       "  <tbody>\n",
       "    <tr>\n",
       "      <th>0</th>\n",
       "      <td>134</td>\n",
       "      <td>Tourist Sunny Apartment</td>\n",
       "      <td>Anchorage</td>\n",
       "      <td>4</td>\n",
       "      <td>yes</td>\n",
       "    </tr>\n",
       "  </tbody>\n",
       "</table>\n",
       "</div>"
      ],
      "text/plain": [
       "    id                     name       city  capacity available\n",
       "0  134  Tourist Sunny Apartment  Anchorage         4       yes"
      ]
     },
     "execution_count": 20,
     "metadata": {},
     "output_type": "execute_result"
    }
   ],
   "source": [
    "df[df['id'] == 134]"
   ]
  },
  {
   "cell_type": "code",
   "execution_count": 27,
   "id": "9344be12-6297-4557-a737-1653f1bfbb4c",
   "metadata": {},
   "outputs": [
    {
     "data": {
      "text/plain": [
       "'yes'"
      ]
     },
     "execution_count": 27,
     "metadata": {},
     "output_type": "execute_result"
    }
   ],
   "source": [
    "df.loc[df['id'] == 188, 'available'].squeeze()"
   ]
  },
  {
   "cell_type": "code",
   "execution_count": 25,
   "id": "bc324403-d0b6-4e0a-843f-235ddb90e3f4",
   "metadata": {},
   "outputs": [
    {
     "data": {
      "text/html": [
       "<div>\n",
       "<style scoped>\n",
       "    .dataframe tbody tr th:only-of-type {\n",
       "        vertical-align: middle;\n",
       "    }\n",
       "\n",
       "    .dataframe tbody tr th {\n",
       "        vertical-align: top;\n",
       "    }\n",
       "\n",
       "    .dataframe thead th {\n",
       "        text-align: right;\n",
       "    }\n",
       "</style>\n",
       "<table border=\"1\" class=\"dataframe\">\n",
       "  <thead>\n",
       "    <tr style=\"text-align: right;\">\n",
       "      <th></th>\n",
       "      <th>id</th>\n",
       "      <th>name</th>\n",
       "      <th>city</th>\n",
       "      <th>capacity</th>\n",
       "      <th>available</th>\n",
       "    </tr>\n",
       "  </thead>\n",
       "  <tbody>\n",
       "    <tr>\n",
       "      <th>0</th>\n",
       "      <td>134</td>\n",
       "      <td>Tourist Sunny Apartment</td>\n",
       "      <td>Anchorage</td>\n",
       "      <td>4</td>\n",
       "      <td>no</td>\n",
       "    </tr>\n",
       "    <tr>\n",
       "      <th>1</th>\n",
       "      <td>188</td>\n",
       "      <td>Snow Palace</td>\n",
       "      <td>New Delhi</td>\n",
       "      <td>5</td>\n",
       "      <td>yes</td>\n",
       "    </tr>\n",
       "    <tr>\n",
       "      <th>2</th>\n",
       "      <td>655</td>\n",
       "      <td>City Break Inn</td>\n",
       "      <td>Porto-Novo</td>\n",
       "      <td>3</td>\n",
       "      <td>no</td>\n",
       "    </tr>\n",
       "  </tbody>\n",
       "</table>\n",
       "</div>"
      ],
      "text/plain": [
       "    id                     name        city  capacity available\n",
       "0  134  Tourist Sunny Apartment   Anchorage         4        no\n",
       "1  188              Snow Palace   New Delhi         5       yes\n",
       "2  655           City Break Inn  Porto-Novo         3        no"
      ]
     },
     "execution_count": 25,
     "metadata": {},
     "output_type": "execute_result"
    }
   ],
   "source": [
    "df"
   ]
  },
  {
   "cell_type": "code",
   "execution_count": 28,
   "id": "5cea5916-ac0c-4ebd-b958-10350ded6d29",
   "metadata": {},
   "outputs": [
    {
     "data": {
      "text/plain": [
       "0    4\n",
       "Name: capacity, dtype: int64"
      ]
     },
     "execution_count": 28,
     "metadata": {},
     "output_type": "execute_result"
    }
   ],
   "source": [
    "df.loc[df['name']=='Tourist Sunny Apartment']['capacity']"
   ]
  },
  {
   "cell_type": "code",
   "execution_count": 32,
   "id": "75843f72-cbec-4d4c-a447-c1265b0ee8d8",
   "metadata": {},
   "outputs": [],
   "source": [
    "df.loc[df['name']=='Tourist Sunny Apartment', 'capacity']=5\n"
   ]
  },
  {
   "cell_type": "code",
   "execution_count": 33,
   "id": "74da195e-fa07-4274-9ee2-9805e938b9f7",
   "metadata": {},
   "outputs": [
    {
     "data": {
      "text/plain": [
       "0    5\n",
       "Name: capacity, dtype: int64"
      ]
     },
     "execution_count": 33,
     "metadata": {},
     "output_type": "execute_result"
    }
   ],
   "source": [
    "df.loc[df['name']=='Tourist Sunny Apartment', 'capacity']"
   ]
  },
  {
   "cell_type": "code",
   "execution_count": 34,
   "id": "99d609ca-3b61-4b7c-8b23-e8730ede6a8e",
   "metadata": {},
   "outputs": [
    {
     "data": {
      "text/plain": [
       "1    5\n",
       "Name: capacity, dtype: int64"
      ]
     },
     "execution_count": 34,
     "metadata": {},
     "output_type": "execute_result"
    }
   ],
   "source": [
    "df.loc[df['name']=='Snow Palace', 'capacity'] "
   ]
  },
  {
   "cell_type": "code",
   "execution_count": 35,
   "id": "5c1157bf-0a24-45c2-a4c8-27bd6b5ce6af",
   "metadata": {},
   "outputs": [],
   "source": [
    "df2= pd.read_csv(r\"C:\\Users\\rajaa\\PycharmProjects\\OOP\\articles.csv\")"
   ]
  },
  {
   "cell_type": "code",
   "execution_count": 38,
   "id": "1f5fce6c-a81c-4321-9143-cee3cddfa470",
   "metadata": {},
   "outputs": [
    {
     "data": {
      "text/plain": [
       "87"
      ]
     },
     "execution_count": 38,
     "metadata": {},
     "output_type": "execute_result"
    }
   ],
   "source": [
    "df2.loc[df2['id']==100]['in stock'].squeeze()"
   ]
  },
  {
   "cell_type": "code",
   "execution_count": 39,
   "id": "cc37ff4d-c667-4862-958f-5be226650a40",
   "metadata": {},
   "outputs": [
    {
     "data": {
      "text/plain": [
       "86"
      ]
     },
     "execution_count": 39,
     "metadata": {},
     "output_type": "execute_result"
    }
   ],
   "source": [
    "df2.loc[df2['id']==100]['in stock'].squeeze() - 1"
   ]
  },
  {
   "cell_type": "code",
   "execution_count": 41,
   "id": "35c2b447-e70a-4010-be8f-48e00b8b8abb",
   "metadata": {},
   "outputs": [],
   "source": [
    "df2.loc[df2['id']==100, 'in stock'] =  df2.loc[df2['id']==100]['in stock'].squeeze() - 1"
   ]
  },
  {
   "cell_type": "code",
   "execution_count": 42,
   "id": "718e1931-c42e-4101-bb6e-abc32023aa2a",
   "metadata": {},
   "outputs": [
    {
     "data": {
      "text/html": [
       "<div>\n",
       "<style scoped>\n",
       "    .dataframe tbody tr th:only-of-type {\n",
       "        vertical-align: middle;\n",
       "    }\n",
       "\n",
       "    .dataframe tbody tr th {\n",
       "        vertical-align: top;\n",
       "    }\n",
       "\n",
       "    .dataframe thead th {\n",
       "        text-align: right;\n",
       "    }\n",
       "</style>\n",
       "<table border=\"1\" class=\"dataframe\">\n",
       "  <thead>\n",
       "    <tr style=\"text-align: right;\">\n",
       "      <th></th>\n",
       "      <th>id</th>\n",
       "      <th>name</th>\n",
       "      <th>price</th>\n",
       "      <th>in stock</th>\n",
       "    </tr>\n",
       "  </thead>\n",
       "  <tbody>\n",
       "    <tr>\n",
       "      <th>0</th>\n",
       "      <td>100</td>\n",
       "      <td>laptop sven 10</td>\n",
       "      <td>999.00</td>\n",
       "      <td>86</td>\n",
       "    </tr>\n",
       "    <tr>\n",
       "      <th>1</th>\n",
       "      <td>101</td>\n",
       "      <td>mouse clara</td>\n",
       "      <td>12.99</td>\n",
       "      <td>87</td>\n",
       "    </tr>\n",
       "  </tbody>\n",
       "</table>\n",
       "</div>"
      ],
      "text/plain": [
       "    id            name   price  in stock\n",
       "0  100  laptop sven 10  999.00        86\n",
       "1  101     mouse clara   12.99        87"
      ]
     },
     "execution_count": 42,
     "metadata": {},
     "output_type": "execute_result"
    }
   ],
   "source": [
    "df2"
   ]
  },
  {
   "cell_type": "code",
   "execution_count": 43,
   "id": "4f66a810-5ec0-44d8-85f0-6b9bc5d06f57",
   "metadata": {},
   "outputs": [],
   "source": [
    "df2.loc[df2['id']==100, 'in stock'] =  df2.loc[df2['id']==100]['in stock'].squeeze() - 1"
   ]
  },
  {
   "cell_type": "code",
   "execution_count": 44,
   "id": "d8d4381a-1f5c-4a5e-8f46-ef4db195a9d2",
   "metadata": {},
   "outputs": [
    {
     "data": {
      "text/html": [
       "<div>\n",
       "<style scoped>\n",
       "    .dataframe tbody tr th:only-of-type {\n",
       "        vertical-align: middle;\n",
       "    }\n",
       "\n",
       "    .dataframe tbody tr th {\n",
       "        vertical-align: top;\n",
       "    }\n",
       "\n",
       "    .dataframe thead th {\n",
       "        text-align: right;\n",
       "    }\n",
       "</style>\n",
       "<table border=\"1\" class=\"dataframe\">\n",
       "  <thead>\n",
       "    <tr style=\"text-align: right;\">\n",
       "      <th></th>\n",
       "      <th>id</th>\n",
       "      <th>name</th>\n",
       "      <th>price</th>\n",
       "      <th>in stock</th>\n",
       "    </tr>\n",
       "  </thead>\n",
       "  <tbody>\n",
       "    <tr>\n",
       "      <th>0</th>\n",
       "      <td>100</td>\n",
       "      <td>laptop sven 10</td>\n",
       "      <td>999.00</td>\n",
       "      <td>85</td>\n",
       "    </tr>\n",
       "    <tr>\n",
       "      <th>1</th>\n",
       "      <td>101</td>\n",
       "      <td>mouse clara</td>\n",
       "      <td>12.99</td>\n",
       "      <td>87</td>\n",
       "    </tr>\n",
       "  </tbody>\n",
       "</table>\n",
       "</div>"
      ],
      "text/plain": [
       "    id            name   price  in stock\n",
       "0  100  laptop sven 10  999.00        85\n",
       "1  101     mouse clara   12.99        87"
      ]
     },
     "execution_count": 44,
     "metadata": {},
     "output_type": "execute_result"
    }
   ],
   "source": [
    "df2"
   ]
  },
  {
   "cell_type": "code",
   "execution_count": 45,
   "id": "bf5f88f3-ebbe-4ab2-8182-0b0163c6cd72",
   "metadata": {},
   "outputs": [],
   "source": [
    "df3= pd.read_csv(r\"C:\\Users\\rajaa\\PycharmProjects\\OOP\\card_security.csv\")"
   ]
  },
  {
   "cell_type": "code",
   "execution_count": 46,
   "id": "66614954-a85a-4681-944a-1836cae81a5f",
   "metadata": {},
   "outputs": [
    {
     "data": {
      "text/html": [
       "<div>\n",
       "<style scoped>\n",
       "    .dataframe tbody tr th:only-of-type {\n",
       "        vertical-align: middle;\n",
       "    }\n",
       "\n",
       "    .dataframe tbody tr th {\n",
       "        vertical-align: top;\n",
       "    }\n",
       "\n",
       "    .dataframe thead th {\n",
       "        text-align: right;\n",
       "    }\n",
       "</style>\n",
       "<table border=\"1\" class=\"dataframe\">\n",
       "  <thead>\n",
       "    <tr style=\"text-align: right;\">\n",
       "      <th></th>\n",
       "      <th>number</th>\n",
       "      <th>password</th>\n",
       "    </tr>\n",
       "  </thead>\n",
       "  <tbody>\n",
       "    <tr>\n",
       "      <th>0</th>\n",
       "      <td>1234567890123456</td>\n",
       "      <td>mypass</td>\n",
       "    </tr>\n",
       "  </tbody>\n",
       "</table>\n",
       "</div>"
      ],
      "text/plain": [
       "             number password\n",
       "0  1234567890123456   mypass"
      ]
     },
     "execution_count": 46,
     "metadata": {},
     "output_type": "execute_result"
    }
   ],
   "source": [
    "df3"
   ]
  },
  {
   "cell_type": "code",
   "execution_count": 49,
   "id": "3cdb29a3-3705-4ad9-a9b5-7f960b7f432e",
   "metadata": {},
   "outputs": [
    {
     "data": {
      "text/plain": [
       "'mypass'"
      ]
     },
     "execution_count": 49,
     "metadata": {},
     "output_type": "execute_result"
    }
   ],
   "source": [
    "df3[\"password\"].squeeze()"
   ]
  },
  {
   "cell_type": "code",
   "execution_count": 54,
   "id": "a04b189f-be9b-4ae5-974f-00b61ed9c514",
   "metadata": {},
   "outputs": [],
   "source": [
    "v=df3[\"password\"].squeeze()"
   ]
  },
  {
   "cell_type": "code",
   "execution_count": 55,
   "id": "82311b19-d83e-4af2-8ba1-7aa894ad45ef",
   "metadata": {},
   "outputs": [
    {
     "data": {
      "text/plain": [
       "'mypass'"
      ]
     },
     "execution_count": 55,
     "metadata": {},
     "output_type": "execute_result"
    }
   ],
   "source": [
    "v"
   ]
  },
  {
   "cell_type": "code",
   "execution_count": 91,
   "id": "f5688894-498a-4604-b0a1-12f11361152d",
   "metadata": {},
   "outputs": [
    {
     "data": {
      "text/plain": [
       "0    no\n",
       "Name: available, dtype: object"
      ]
     },
     "execution_count": 91,
     "metadata": {},
     "output_type": "execute_result"
    }
   ],
   "source": [
    "df.loc[df['id'] == 134,'available']"
   ]
  },
  {
   "cell_type": "code",
   "execution_count": 92,
   "id": "8f819c87-9793-4cec-a2ab-89828187a906",
   "metadata": {},
   "outputs": [],
   "source": [
    "df.loc[df['id'] == 188,'available']='no'"
   ]
  },
  {
   "cell_type": "code",
   "execution_count": 93,
   "id": "379e4b73-5067-44f4-a3d8-221cde08344d",
   "metadata": {},
   "outputs": [
    {
     "data": {
      "text/html": [
       "<div>\n",
       "<style scoped>\n",
       "    .dataframe tbody tr th:only-of-type {\n",
       "        vertical-align: middle;\n",
       "    }\n",
       "\n",
       "    .dataframe tbody tr th {\n",
       "        vertical-align: top;\n",
       "    }\n",
       "\n",
       "    .dataframe thead th {\n",
       "        text-align: right;\n",
       "    }\n",
       "</style>\n",
       "<table border=\"1\" class=\"dataframe\">\n",
       "  <thead>\n",
       "    <tr style=\"text-align: right;\">\n",
       "      <th></th>\n",
       "      <th>id</th>\n",
       "      <th>name</th>\n",
       "      <th>city</th>\n",
       "      <th>capacity</th>\n",
       "      <th>available</th>\n",
       "    </tr>\n",
       "  </thead>\n",
       "  <tbody>\n",
       "    <tr>\n",
       "      <th>0</th>\n",
       "      <td>134</td>\n",
       "      <td>Tourist Sunny Apartment</td>\n",
       "      <td>Anchorage</td>\n",
       "      <td>4</td>\n",
       "      <td>no</td>\n",
       "    </tr>\n",
       "    <tr>\n",
       "      <th>1</th>\n",
       "      <td>188</td>\n",
       "      <td>Snow Palace</td>\n",
       "      <td>New Delhi</td>\n",
       "      <td>5</td>\n",
       "      <td>no</td>\n",
       "    </tr>\n",
       "    <tr>\n",
       "      <th>2</th>\n",
       "      <td>655</td>\n",
       "      <td>City Break Inn</td>\n",
       "      <td>Porto-Novo</td>\n",
       "      <td>3</td>\n",
       "      <td>no</td>\n",
       "    </tr>\n",
       "  </tbody>\n",
       "</table>\n",
       "</div>"
      ],
      "text/plain": [
       "    id                     name        city  capacity available\n",
       "0  134  Tourist Sunny Apartment   Anchorage         4        no\n",
       "1  188              Snow Palace   New Delhi         5        no\n",
       "2  655           City Break Inn  Porto-Novo         3        no"
      ]
     },
     "execution_count": 93,
     "metadata": {},
     "output_type": "execute_result"
    }
   ],
   "source": [
    "df"
   ]
  },
  {
   "cell_type": "code",
   "execution_count": 94,
   "id": "272b3c4b-3f5e-443c-84f9-c5438a44611e",
   "metadata": {},
   "outputs": [],
   "source": [
    "df.to_csv(\"hotels.csv\")"
   ]
  },
  {
   "cell_type": "code",
   "execution_count": null,
   "id": "20d7f1d9-465d-4ee3-b7ac-4799afe07cb1",
   "metadata": {},
   "outputs": [],
   "source": []
  }
 ],
 "metadata": {
  "kernelspec": {
   "display_name": "Python 3 (ipykernel)",
   "language": "python",
   "name": "python3"
  },
  "language_info": {
   "codemirror_mode": {
    "name": "ipython",
    "version": 3
   },
   "file_extension": ".py",
   "mimetype": "text/x-python",
   "name": "python",
   "nbconvert_exporter": "python",
   "pygments_lexer": "ipython3",
   "version": "3.11.3"
  }
 },
 "nbformat": 4,
 "nbformat_minor": 5
}
